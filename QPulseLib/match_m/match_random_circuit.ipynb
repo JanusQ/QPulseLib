{
 "cells": [
  {
   "cell_type": "code",
   "execution_count": 1,
   "metadata": {},
   "outputs": [],
   "source": [
    "import sys\n",
    "sys.path.append('..')\n",
    "from dataset.random_circuit import su4_circuit, random_circuit\n",
    "import numpy as np"
   ]
  },
  {
   "cell_type": "code",
   "execution_count": 2,
   "metadata": {},
   "outputs": [],
   "source": [
    "qubits_list = [5, 10, 15, 20, 25, 30, 35, 50, 100, 150, 200, 250, 300]"
   ]
  },
  {
   "cell_type": "code",
   "execution_count": 3,
   "metadata": {},
   "outputs": [],
   "source": [
    "circuit_name = []\n",
    "circuits = []\n",
    "for qubits in qubits_list:\n",
    "    circuit_name.append(f'rb_{qubits}_{10}')\n",
    "    circuits.append(random_circuit(qubits, qubits * 10, two_qubit_prob=0.35, reverse=True))\n",
    "    circuit_name.append(f'su4_{qubits}_{10}')\n",
    "    circuits.append(su4_circuit(qubits, 10))"
   ]
  },
  {
   "cell_type": "code",
   "execution_count": 4,
   "metadata": {},
   "outputs": [
    {
     "name": "stdout",
     "output_type": "stream",
     "text": [
      "pyzx is not installed\n",
      "cirq is not installed\n",
      "qsimcirq is not installed\n",
      "numpy-quaternion is not installed\n",
      "stim is not installed\n",
      "qutip is not installed\n",
      "rb_5_10\n",
      "su4_5_10\n",
      "rb_10_10\n",
      "su4_10_10\n",
      "rb_15_10\n",
      "su4_15_10\n",
      "rb_20_10\n",
      "su4_20_10\n",
      "rb_25_10\n",
      "su4_25_10\n",
      "rb_30_10\n",
      "su4_30_10\n",
      "rb_35_10\n",
      "su4_35_10\n",
      "rb_50_10\n",
      "su4_50_10\n",
      "rb_100_10\n",
      "su4_100_10\n",
      "rb_150_10\n",
      "su4_150_10\n",
      "rb_200_10\n",
      "su4_200_10\n",
      "rb_250_10\n",
      "su4_250_10\n",
      "rb_300_10\n",
      "su4_300_10\n"
     ]
    }
   ],
   "source": [
    "# 编译转换为复数矩阵\n",
    "from common.circuit_preprocessing import circuit_preprocessing_matrix\n",
    "from coupling_map.coupling_map import one_dim_couping\n",
    "tqcs = []\n",
    "for idx, circuit in enumerate(circuits):\n",
    "    print(circuit_name[idx])\n",
    "    tqcs.append(circuit_preprocessing_matrix(circuit=circuit, coupling_map=one_dim_couping(circuits[0].num_qubits), basis_gates=['rx', 'ry', 'cz', 'i'], rz_opti=False, xy=True)[0])\n",
    "circuits = tqcs"
   ]
  },
  {
   "cell_type": "code",
   "execution_count": 6,
   "metadata": {},
   "outputs": [
    {
     "name": "stdout",
     "output_type": "stream",
     "text": [
      "dict_keys([(3, 3), (4, 2), (2, 4), (3, 2), (2, 3), (4, 1), (1, 4), (2, 2), (3, 1), (1, 3), (2, 1), (1, 2)])\n",
      "[array([[10.+0.j ,  0.+0.j ,  0.+0.j ],\n",
      "       [10.+0.j ,  1.+0.5j, 10.+0.j ],\n",
      "       [ 0.+0.j ,  0.+0.j , 10.+0.j ]]), 52, (41+0.5j)]\n",
      "[array([[-10.-10.j ,   0. +0.j ,   0. +0.j ],\n",
      "       [-10.-10.j ,   1. +0.5j, -10.-10.j ],\n",
      "       [  0. +0.j ,   0. +0.j , -10.-10.j ]]), 52, (-39-39.5j), array([[ 0.02410871,  0.00936945, -0.01635341, ...,  0.        ,\n",
      "         0.        ,  0.        ],\n",
      "       [ 0.02410871,  0.00936945, -0.01635341, ...,  0.        ,\n",
      "         0.        ,  0.        ],\n",
      "       [ 0.        ,  0.        ,  0.        , ...,  0.        ,\n",
      "         0.        ,  0.        ]])]\n"
     ]
    }
   ],
   "source": [
    "# 接下来就是计算匹配时间\n",
    "# 生成kernel对应的pulse\n",
    "from common.All_pulse_generation import wave_construction\n",
    "wx = np.pad(wave_construction('x').real, (0, 140), 'constant', constant_values=(0, 0))\n",
    "wcz = np.pad(wave_construction('cz').real, (0, 80), 'constant', constant_values=(0, 0))\n",
    "def gen_pulse_for_kernel(kernel):\n",
    "    kernel_pulse = np.zeros((kernel.shape[0], kernel.shape[1] * 200), dtype=float)\n",
    "    for col in range(kernel.shape[1]):\n",
    "        for row in range(kernel.shape[0]):\n",
    "            e = kernel[row, col]\n",
    "            cs = 200 * col\n",
    "            cd = cs + 200\n",
    "            if e == 10:\n",
    "                kernel_pulse[row, cs: cd] = wcz\n",
    "            elif e != 10 and e != 0:\n",
    "                kernel_pulse[row, cs: cd] = wx\n",
    "    return kernel_pulse\n",
    "\n",
    "# 准备那个kernel\n",
    "import pickle\n",
    "with open(f'../result/search/search_2_11_6_6_threshold8_cz', mode='rb') as f:\n",
    "    all_components = pickle.load(f)\n",
    "print(all_components.keys())\n",
    "print(all_components[(3, 3)][0])\n",
    "for kernel_size in all_components:\n",
    "    for component in all_components[kernel_size]:\n",
    "        array = component[0]\n",
    "        array[np.where(array == 10 + 0j)] = -10-10j\n",
    "        component[2] = np.sum(array)\n",
    "        component.append(gen_pulse_for_kernel(component[0]))\n",
    "print(all_components[(3, 3)][0])\n",
    "\n",
    "\n",
    "# pluse_library\n",
    "with open('single_gate_weights.result', mode='rb') as f:\n",
    "    single_library = pickle.load(f)\n",
    "single_pulse_library = {k: np.pad(wave_construction('x').real, (0, 140), 'constant', constant_values=(0, 0)) for k in single_library}\n",
    "single_pulse_library[-10-10j] = np.pad(wave_construction('cz').real, (0, 80), 'constant', constant_values=(0, 0))"
   ]
  },
  {
   "cell_type": "code",
   "execution_count": 7,
   "metadata": {},
   "outputs": [
    {
     "name": "stdout",
     "output_type": "stream",
     "text": [
      "[0.0034558773040771484, 0.016799211502075195, 0.005135536193847656, 0.03776407241821289, 0.006282806396484375, 0.05211520195007324, 0.00753331184387207, 0.07204723358154297, 0.007740974426269531, 0.08722925186157227, 0.01113748550415039, 0.10724806785583496, 0.013714075088500977, 0.12275409698486328, 0.019277095794677734, 0.17847490310668945, 0.03408312797546387, 0.3634462356567383, 0.04953122138977051, 0.5348591804504395, 0.07283401489257812, 0.715573787689209, 0.09077882766723633, 0.8854291439056396, 0.107452392578125, 1.068408489227295]\n"
     ]
    }
   ],
   "source": [
    "# 匹配咯\n",
    "from consts import *\n",
    "from scipy import signal\n",
    "import time\n",
    "match_time = []\n",
    "\n",
    "for m in circuits:\n",
    "    t = time.time()\n",
    "    # 这里是match的结果\n",
    "    match_res = {}\n",
    "    match_array = np.zeros(m.shape)\n",
    "    for kernel in KERNEL_CONV_LIST:\n",
    "        if kernel[0] > m.shape[0] or kernel[1] > m.shape[1]:\n",
    "            continue\n",
    "        # 卷积占坑\n",
    "        conv_matrix = signal.convolve2d(m, FILTERS[kernel], 'valid')\n",
    "        for arr in all_components[kernel]:\n",
    "            find_idx = np.where(conv_matrix == arr[2])\n",
    "            for row, col in zip(find_idx[0], find_idx[1]):\n",
    "                if (row, col) in match_res:\n",
    "                    continue\n",
    "                sub_m = m[row: row + kernel[0], col: col + kernel[1]]\n",
    "                match_res[(row, col)] = arr\n",
    "\n",
    "    # print(match_res)\n",
    "    # 这里该生成波形了\n",
    "    pulse_array = np.zeros((m.shape[0], m.shape[1] * 200), dtype=float)\n",
    "    for pos in match_res:\n",
    "        arr = match_res[pos]\n",
    "        q1 = pos[0]\n",
    "        q2 = pos[0] + arr[0].shape[0]\n",
    "        if np.sum(match_array[q1: q2, pos[1]: pos[1] + arr[0].shape[1]]) != 0:\n",
    "            continue\n",
    "        l = pos[1] * 200\n",
    "        r = (pos[1] + arr[0].shape[1]) * 200\n",
    "        # print(match_res[pos][3].shape)\n",
    "        # print(f\"{l} {r}\")\n",
    "        pulse_array[q1: q2, l: r] = match_res[pos][3]\n",
    "        match_array[q1: q2, pos[1]: pos[1] + arr[0].shape[1]] = 1\n",
    "    single_idx = np.where((match_array == 0) & (m != 0 + 0j))\n",
    "    for idx1, idx2 in zip(single_idx[0], single_idx[1]):\n",
    "        if m[idx1][idx2] == -10 - 10j:\n",
    "            pulse_array[idx1, idx2 * 200: (idx2 + 1) * 200] = wcz\n",
    "        elif m[idx1][idx2] in single_pulse_library:\n",
    "            pulse_array[idx1, idx2 * 200: (idx2 + 1) * 200] = single_pulse_library[m[idx1][idx2]]\n",
    "        else:\n",
    "            pulse_array[idx1, idx2 * 200: (idx2 + 1) * 200] = np.pad(wave_construction('x').real, (0, 140), 'constant', constant_values=(0, 0))\n",
    "    match_time.append(time.time() - t)\n",
    "print(match_time)\n"
   ]
  },
  {
   "cell_type": "code",
   "execution_count": 8,
   "metadata": {},
   "outputs": [
    {
     "name": "stdout",
     "output_type": "stream",
     "text": [
      "finish 0\n",
      "finish 2\n",
      "finish 1\n",
      "finish 4\n",
      "finish 6\n",
      "finish 8\n",
      "finish 10\n",
      "finish 3\n",
      "finish 12\n",
      "finish 5\n",
      "finish 14\n",
      "finish 7\n",
      "finish 9\n",
      "finish 16\n",
      "finish 11\n",
      "finish 13\n",
      "finish 18\n",
      "finish 15\n",
      "finish 20\n",
      "finish 22\n",
      "finish 17\n",
      "finish 24\n",
      "finish 19\n",
      "finish 21\n",
      "finish 23\n",
      "finish 25\n",
      "[0.20046544075012207, 0.6695842742919922, 0.46265554428100586, 1.654020071029663, 0.6841692924499512, 2.3416025638580322, 0.7322366237640381, 3.294830083847046, 0.7709732055664062, 3.969482660293579, 1.2631678581237793, 4.967066526412964, 1.3229858875274658, 5.661649227142334, 2.0995116233825684, 8.297614574432373, 3.810051441192627, 16.59216547012329, 5.632606267929077, 24.995574712753296, 8.14919924736023, 33.315253019332886, 9.928212881088257, 41.7391300201416, 13.529076337814331, 49.84784388542175]\n"
     ]
    }
   ],
   "source": [
    "# 直接暴力生成\n",
    "baseline_time = []\n",
    "\n",
    "def one_task(idx, m):\n",
    "    t = time.time()\n",
    "    single_idx = np.where((m != 0 + 0j))\n",
    "    pulse_array = np.zeros((m.shape[0], m.shape[1] * 200), dtype=float)\n",
    "    for idx1, idx2 in zip(single_idx[0], single_idx[1]):\n",
    "        if m[idx1][idx2] == -10 - 10j:\n",
    "            pulse_array[idx1, idx2 * 200: (idx2 + 1) * 200] = np.pad(wave_construction('cz').real, (0, 80), 'constant', constant_values=(0, 0))\n",
    "        else:\n",
    "            pulse_array[idx1, idx2 * 200: (idx2 + 1) * 200] = np.pad(wave_construction('x').real, (0, 140), 'constant', constant_values=(0, 0))\n",
    "    print(f'finish {idx}')\n",
    "    return time.time() - t\n",
    "from multiprocessing import Pool\n",
    "\n",
    "pool = Pool(10)\n",
    "futures = []\n",
    "for idx, m in enumerate(circuits):\n",
    "    future = pool.apply_async(one_task, (idx, m))\n",
    "    futures.append(future)\n",
    "for future in futures:\n",
    "    baseline_time.append(future.get())\n",
    "\n",
    "# for idx, m in enumerate(circuits):\n",
    "#     print(idx)\n",
    "#     t = time.time()\n",
    "#     single_idx = np.where((m != 0 + 0j))\n",
    "#     pulse_array = np.zeros((m.shape[0], m.shape[1] * 200), dtype=float)\n",
    "#     for idx1, idx2 in zip(single_idx[0], single_idx[1]):\n",
    "#         if m[idx1][idx2] == -10 - 10j:\n",
    "#             pulse_array[idx1, idx2 * 200: (idx2 + 1) * 200] = np.pad(wave_construction('cz').real, (0, 80), 'constant', constant_values=(0, 0))\n",
    "#         else:\n",
    "#             pulse_array[idx1, idx2 * 200: (idx2 + 1) * 200] = np.pad(wave_construction('x').real, (0, 140), 'constant', constant_values=(0, 0))\n",
    "#     baseline_time.append(time.time() - t)\n",
    "print(baseline_time)"
   ]
  },
  {
   "cell_type": "code",
   "execution_count": 9,
   "metadata": {},
   "outputs": [
    {
     "name": "stdout",
     "output_type": "stream",
     "text": [
      "[0.0026836395263671875, 0.014177799224853516, 0.001210927963256836, 0.033312320709228516, 0.0007085800170898438, 0.04617190361022949, 0.0015058517456054688, 0.06541228294372559, 0.0010178089141845703, 0.07970380783081055, 0.0009212493896484375, 0.09824419021606445, 0.002716064453125, 0.11142182350158691, 0.0020329952239990234, 0.16575002670288086, 0.007123708724975586, 0.32740283012390137, 0.004483222961425781, 0.49855542182922363, 0.006325244903564453, 0.6578662395477295, 0.012401342391967773, 0.8190953731536865, 0.012018442153930664, 0.9949114322662354]\n"
     ]
    }
   ],
   "source": [
    "# 直接暴力生成带缓存\n",
    "baseline2_time = []\n",
    "for idx, m in enumerate(circuits):\n",
    "    t = time.time()\n",
    "    single_idx = np.where((m != 0 + 0j))\n",
    "    pulse_array = np.zeros((m.shape[0], m.shape[1] * 200), dtype=float)\n",
    "    for idx1, idx2 in zip(single_idx[0], single_idx[1]):\n",
    "        if m[idx1][idx2] == -10 - 10j:\n",
    "            pulse_array[idx1, idx2 * 200: (idx2 + 1) * 200] = wcz\n",
    "        elif m[idx1][idx2] in single_pulse_library:\n",
    "            pulse_array[idx1, idx2 * 200: (idx2 + 1) * 200] = wx\n",
    "        else:\n",
    "            pulse_array[idx1, idx2 * 200: (idx2 + 1) * 200] = np.pad(wave_construction('x').real, (0, 140), 'constant', constant_values=(0, 0))\n",
    "    baseline2_time.append(time.time() - t)\n",
    "print(baseline2_time)"
   ]
  },
  {
   "cell_type": "code",
   "execution_count": 10,
   "metadata": {},
   "outputs": [],
   "source": [
    "result = [circuit_name, baseline_time, baseline2_time, match_time]\n",
    "import pandas as pd\n",
    "\n",
    "df = pd.DataFrame(result)\n",
    "df.to_excel('result.xlsx', header=None)"
   ]
  },
  {
   "cell_type": "code",
   "execution_count": null,
   "metadata": {},
   "outputs": [],
   "source": []
  }
 ],
 "metadata": {
  "kernelspec": {
   "display_name": "test_hyqsat",
   "language": "python",
   "name": "python3"
  },
  "language_info": {
   "codemirror_mode": {
    "name": "ipython",
    "version": 3
   },
   "file_extension": ".py",
   "mimetype": "text/x-python",
   "name": "python",
   "nbconvert_exporter": "python",
   "pygments_lexer": "ipython3",
   "version": "3.10.14"
  }
 },
 "nbformat": 4,
 "nbformat_minor": 2
}
